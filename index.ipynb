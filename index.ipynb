{
 "cells": [
  {
   "cell_type": "code",
   "execution_count": 26,
   "metadata": {},
   "outputs": [
    {
     "data": {
      "text/html": [
       "<div>\n",
       "<style scoped>\n",
       "    .dataframe tbody tr th:only-of-type {\n",
       "        vertical-align: middle;\n",
       "    }\n",
       "\n",
       "    .dataframe tbody tr th {\n",
       "        vertical-align: top;\n",
       "    }\n",
       "\n",
       "    .dataframe thead th {\n",
       "        text-align: right;\n",
       "    }\n",
       "</style>\n",
       "<table border=\"1\" class=\"dataframe\">\n",
       "  <thead>\n",
       "    <tr style=\"text-align: right;\">\n",
       "      <th></th>\n",
       "      <th>BANK</th>\n",
       "      <th>TAHUN</th>\n",
       "      <th>Q</th>\n",
       "      <th>NPF/NPL</th>\n",
       "      <th>FDR/LDR</th>\n",
       "      <th>BOPO</th>\n",
       "      <th>ROE</th>\n",
       "    </tr>\n",
       "  </thead>\n",
       "  <tbody>\n",
       "    <tr>\n",
       "      <th>0</th>\n",
       "      <td>ALLOBANK</td>\n",
       "      <td>2017</td>\n",
       "      <td>Q1</td>\n",
       "      <td>2.42</td>\n",
       "      <td>95.97</td>\n",
       "      <td>93.68</td>\n",
       "      <td>2.52</td>\n",
       "    </tr>\n",
       "    <tr>\n",
       "      <th>1</th>\n",
       "      <td>ALLOBANK</td>\n",
       "      <td>2018</td>\n",
       "      <td>Q1</td>\n",
       "      <td>2.78</td>\n",
       "      <td>95.93</td>\n",
       "      <td>96.81</td>\n",
       "      <td>1.01</td>\n",
       "    </tr>\n",
       "    <tr>\n",
       "      <th>2</th>\n",
       "      <td>ALLOBANK</td>\n",
       "      <td>2019</td>\n",
       "      <td>Q1</td>\n",
       "      <td>2.29</td>\n",
       "      <td>92.94</td>\n",
       "      <td>85.49</td>\n",
       "      <td>13.17</td>\n",
       "    </tr>\n",
       "    <tr>\n",
       "      <th>3</th>\n",
       "      <td>ALLOBANK</td>\n",
       "      <td>2020</td>\n",
       "      <td>Q1</td>\n",
       "      <td>3.94</td>\n",
       "      <td>87.40</td>\n",
       "      <td>98.55</td>\n",
       "      <td>0.76</td>\n",
       "    </tr>\n",
       "    <tr>\n",
       "      <th>4</th>\n",
       "      <td>ALLOBANK</td>\n",
       "      <td>2021</td>\n",
       "      <td>Q1</td>\n",
       "      <td>1.51</td>\n",
       "      <td>50.71</td>\n",
       "      <td>85.00</td>\n",
       "      <td>13.11</td>\n",
       "    </tr>\n",
       "  </tbody>\n",
       "</table>\n",
       "</div>"
      ],
      "text/plain": [
       "       BANK  TAHUN   Q  NPF/NPL  FDR/LDR   BOPO    ROE\n",
       "0  ALLOBANK   2017  Q1     2.42    95.97  93.68   2.52\n",
       "1  ALLOBANK   2018  Q1     2.78    95.93  96.81   1.01\n",
       "2  ALLOBANK   2019  Q1     2.29    92.94  85.49  13.17\n",
       "3  ALLOBANK   2020  Q1     3.94    87.40  98.55   0.76\n",
       "4  ALLOBANK   2021  Q1     1.51    50.71  85.00  13.11"
      ]
     },
     "execution_count": 26,
     "metadata": {},
     "output_type": "execute_result"
    }
   ],
   "source": [
    "import pandas as pd\n",
    "df=pd.read_csv('data_kaggle.csv')\n",
    "df.head()\n"
   ]
  },
  {
   "cell_type": "code",
   "execution_count": 72,
   "metadata": {},
   "outputs": [
    {
     "name": "stdout",
     "output_type": "stream",
     "text": [
      "BANK\n",
      "ALLOBANK          89.762727\n",
      "BANK DBS          90.262174\n",
      "BTPN (JENIUS)     86.810000\n",
      "Bank Jago        132.363889\n",
      "Bank Neo Comm     93.059565\n",
      "DIGITAL BCA      102.831000\n",
      "Name: BOPO, dtype: float64\n"
     ]
    }
   ],
   "source": [
    "# contoh mean dari nilai bopo untuk semua bank?\n",
    "\n",
    "x=df.groupby('BANK')['BOPO'].mean()\n",
    "y=df.groupby('BANK')['ROE'].mean()\n",
    "\n",
    "print(x)\n",
    "\n",
    "print(\"nama bank | total |\")\n",
    "\n",
    "\n",
    "\n"
   ]
  },
  {
   "cell_type": "code",
   "execution_count": 28,
   "metadata": {},
   "outputs": [
    {
     "data": {
      "text/plain": [
       "317.54"
      ]
     },
     "execution_count": 28,
     "metadata": {},
     "output_type": "execute_result"
    }
   ],
   "source": [
    "df['BOPO'].max()\n"
   ]
  }
 ],
 "metadata": {
  "kernelspec": {
   "display_name": "Python 3.10.9 64-bit",
   "language": "python",
   "name": "python3"
  },
  "language_info": {
   "codemirror_mode": {
    "name": "ipython",
    "version": 3
   },
   "file_extension": ".py",
   "mimetype": "text/x-python",
   "name": "python",
   "nbconvert_exporter": "python",
   "pygments_lexer": "ipython3",
   "version": "3.10.9"
  },
  "orig_nbformat": 4,
  "vscode": {
   "interpreter": {
    "hash": "b0fa6594d8f4cbf19f97940f81e996739fb7646882a419484c72d19e05852a7e"
   }
  }
 },
 "nbformat": 4,
 "nbformat_minor": 2
}
